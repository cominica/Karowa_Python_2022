{
 "cells": [
  {
   "cell_type": "markdown",
   "metadata": {},
   "source": [
    "Prosze wpisać\n",
    "\n",
    "Imię i nazwisko: "
   ]
  },
  {
   "cell_type": "markdown",
   "metadata": {},
   "source": [
    "### 1. Operacje na listach (10 pkt)"
   ]
  },
  {
   "cell_type": "markdown",
   "metadata": {},
   "source": [
    "Proszę stworzyć listę z numerów 1 , 2, 8, 3, 12, 10, 14, 16\n",
    "\n",
    "a. Proszę dodać na koniec listy liczbę 100\n",
    "I wyświetlić listę.\n",
    "\n",
    "b. Proszę zamienić 100 na 20\n",
    "i wyświetlić listę\n",
    "\n",
    "c. Proszę przed 20 wstawić liczbę 18\n",
    "i wyświetlić listę\n",
    "\n",
    "d. Proszę usunąć liczbę 2\n",
    "i wyświetlić listę\n",
    "\n",
    "e. Proszę wyświetlić liczby z przedziału od 3 do 5 włącznie (licząc ‘normalnie’)\n",
    "\n",
    "Rezultatem powinno być 5 list.\n"
   ]
  },
  {
   "cell_type": "code",
   "execution_count": null,
   "metadata": {},
   "outputs": [],
   "source": [
    "\n"
   ]
  },
  {
   "cell_type": "code",
   "execution_count": null,
   "metadata": {},
   "outputs": [],
   "source": []
  },
  {
   "cell_type": "markdown",
   "metadata": {},
   "source": [
    "### 2. Proszę napisać dwie pętle (20 pkt): \n",
    "\n",
    "* Pierwsza doda do pustej listy wszystkie kolejne wielkorotności 3 - od 3 do 21. Czyli 3, 6, 9, itd. do 21 włącznie.\n",
    "* Druga doda te same liczby w odwrotnej kolejności "
   ]
  },
  {
   "cell_type": "code",
   "execution_count": null,
   "metadata": {},
   "outputs": [],
   "source": [
    "pustaLista = []\n"
   ]
  },
  {
   "cell_type": "code",
   "execution_count": null,
   "metadata": {},
   "outputs": [],
   "source": []
  },
  {
   "cell_type": "code",
   "execution_count": null,
   "metadata": {},
   "outputs": [],
   "source": []
  },
  {
   "cell_type": "markdown",
   "metadata": {},
   "source": [
    "### 3. Imiona i nazwiska (10 pkt)"
   ]
  },
  {
   "cell_type": "markdown",
   "metadata": {},
   "source": [
    "Proszę napisać program, który prosi użytkownika o podanie swojego imienia, a potem nazwiska. \n",
    "\n",
    "Jeśli długość imienia ma mniej niż pięć znaków, połącz imię i nazwisko (ze spacją) i wyświetl nazwisko wielkimi literami. \n",
    "\n",
    "Jeśli długość imienia wynosi pięć lub więcej znaków, wyświetl imię dużymi literami z nazwiskiem małymi.\n",
    "\n",
    "Czyli wpis 'jan' 'kowalski' powinien dać rezultat 'jan KOWALSKI'\n",
    "\n",
    "A wpis 'amadeusz' 'mozart' = 'AMADEUSZ mozart'"
   ]
  },
  {
   "cell_type": "code",
   "execution_count": null,
   "metadata": {},
   "outputs": [],
   "source": [
    "\n"
   ]
  },
  {
   "cell_type": "code",
   "execution_count": null,
   "metadata": {},
   "outputs": [],
   "source": []
  },
  {
   "cell_type": "markdown",
   "metadata": {},
   "source": []
  },
  {
   "cell_type": "markdown",
   "metadata": {},
   "source": [
    "### 4. Powierzchnia pola (10 pkt.)"
   ]
  },
  {
   "cell_type": "markdown",
   "metadata": {},
   "source": [
    "Proszę napisać program, który prosi użytkownika o podanie szerokości i długości pola w metrach. Długość i szerokość będą wprowadzane jako liczby zmiennoprzecinkowe. Po odczytaniu wartości program powinien obliczyć i wyświetlić powierzchnię pola w hektarach. (1 ha = 10 000 m). Wyświetl wyniki tą z informacją: Powierzchnia twojego pola wynosi xx ha."
   ]
  },
  {
   "cell_type": "code",
   "execution_count": null,
   "metadata": {},
   "outputs": [],
   "source": []
  },
  {
   "cell_type": "code",
   "execution_count": null,
   "metadata": {},
   "outputs": [],
   "source": []
  },
  {
   "cell_type": "markdown",
   "metadata": {},
   "source": [
    "### 5. Suma daty urodzenia (10 pkt.)\n"
   ]
  },
  {
   "cell_type": "markdown",
   "metadata": {},
   "source": [
    "Proszę napisać program, który prosi o podanie daty urodzenia w formacie DDMMRRRR a następnie policzy sumę podanych cyfr.\n",
    "\n",
    "Czyli, jeśli ktoś poda 01012001, to suma będzie wynosiła 5."
   ]
  },
  {
   "cell_type": "code",
   "execution_count": null,
   "metadata": {},
   "outputs": [],
   "source": []
  },
  {
   "cell_type": "code",
   "execution_count": null,
   "metadata": {},
   "outputs": [],
   "source": []
  },
  {
   "cell_type": "code",
   "execution_count": null,
   "metadata": {},
   "outputs": [],
   "source": []
  },
  {
   "cell_type": "markdown",
   "metadata": {},
   "source": [
    "### 6. Proszę wykonać polecenie o które prosi zmienna Text (10 pkt.)"
   ]
  },
  {
   "cell_type": "code",
   "execution_count": null,
   "metadata": {},
   "outputs": [],
   "source": [
    "Text = \"Wydrukuj pierwszych 20% znaków z zawartości tego tekstu\""
   ]
  },
  {
   "cell_type": "code",
   "execution_count": null,
   "metadata": {},
   "outputs": [],
   "source": []
  },
  {
   "cell_type": "code",
   "execution_count": null,
   "metadata": {},
   "outputs": [],
   "source": []
  },
  {
   "cell_type": "markdown",
   "metadata": {},
   "source": [
    "### 7. Proszę napisać funkcję, która będzie zamieniała małe litery na duże i duże na małe (10 pkt.).\n",
    "\n",
    "Czyli dla 'Idzie JANA DrOgA' wynik będzie wyglądał 'iDZIE jana dRoGa'"
   ]
  },
  {
   "cell_type": "code",
   "execution_count": 32,
   "metadata": {},
   "outputs": [],
   "source": []
  },
  {
   "cell_type": "code",
   "execution_count": null,
   "metadata": {},
   "outputs": [],
   "source": []
  },
  {
   "cell_type": "markdown",
   "metadata": {},
   "source": [
    "### 8. Mamy następujący słownik z kontaktami. Proszę napisać funkcję, która zwrócić listę ale posortowaną według nazwisk, a następnie według imion (20 pkt.).\n",
    "\n",
    "Czyli taki wynik\n",
    "\n",
    "```[{'first': 'Wladyslaw', 'last': 'Chrobry', 'email': 'krol2@wp.pl'}, {'first': 'Stanisław', 'last': 'Smiały', 'email': 'krol@wp.pl'}, {'first': 'Jan', 'last': 'Zalek', 'email': 'kowalsi@wp.pl'}]```"
   ]
  },
  {
   "cell_type": "code",
   "execution_count": 28,
   "metadata": {},
   "outputs": [],
   "source": [
    "PEOPLE = [{'first':'Jan', 'last':'Zalek', 'email':'kowalsi@wp.pl'},\n",
    "{'first':'Stanisław', 'last':'Smiały', 'email':'krol@wp.pl'}, \n",
    "{'first':'Wladyslaw', 'last':'Chrobry', 'email':'krol2@wp.pl'}\n",
    "]"
   ]
  },
  {
   "cell_type": "code",
   "execution_count": null,
   "metadata": {},
   "outputs": [],
   "source": []
  },
  {
   "cell_type": "code",
   "execution_count": null,
   "metadata": {},
   "outputs": [],
   "source": []
  },
  {
   "cell_type": "code",
   "execution_count": null,
   "metadata": {},
   "outputs": [],
   "source": []
  }
 ],
 "metadata": {
  "kernelspec": {
   "display_name": "Python 3",
   "language": "python",
   "name": "python3"
  },
  "language_info": {
   "codemirror_mode": {
    "name": "ipython",
    "version": 3
   },
   "file_extension": ".py",
   "mimetype": "text/x-python",
   "name": "python",
   "nbconvert_exporter": "python",
   "pygments_lexer": "ipython3",
   "version": "3.9.10"
  }
 },
 "nbformat": 4,
 "nbformat_minor": 4
}
